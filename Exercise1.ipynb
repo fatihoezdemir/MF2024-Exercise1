{
 "cells": [
  {
   "cell_type": "markdown",
   "id": "3fa465dd",
   "metadata": {},
   "source": [
    "# Mathematical Foundations of Computer Graphics and Vision 2023\n",
    "## Exercise 1 - Robust Estimation and Optimization"
   ]
  },
  {
   "cell_type": "markdown",
   "id": "95a8a250",
   "metadata": {},
   "source": [
    "In this exercise you will apply what you learned about robust optimization, especially RANSAC and Iteratively Reweighted Least Squares (IRLS). You will implement RANSAC for circle fitting in the presence of outliers, IRLS for line fitting with $L_1$ norm, and LP for line fitting with $L_1$ and $L_\\infty$ norms.\n",
    "\n",
    "We have implemented a skeleton notebook and you have to fill out blocks marked with `TODO`. Please refrain from modifying the notebook outside of the `START` and `END` blocks for the coding problems apart from new cells you create.\n",
    "\n",
    "<b style=\"color:red\">Use numpy vectorization</b> instead of python loops where explicitly noted. We may deduct points if your code runs unreasonably slow due (see the \"test case\" cell). "
   ]
  },
  {
   "cell_type": "code",
   "execution_count": null,
   "id": "fd648b51",
   "metadata": {},
   "outputs": [],
   "source": [
    "%matplotlib inline\n",
    "import math\n",
    "from typing import Tuple, List, Optional\n",
    "import itertools\n",
    "from collections import namedtuple\n",
    "\n",
    "import numpy as np\n",
    "from scipy.optimize import linprog\n",
    "import matplotlib.pyplot as plt\n",
    "\n",
    "\n",
    "np.random.seed(123)"
   ]
  },
  {
   "cell_type": "markdown",
   "id": "89cda140",
   "metadata": {},
   "source": [
    "## Part 1: RANSAC for circle fitting"
   ]
  },
  {
   "cell_type": "code",
   "execution_count": null,
   "id": "09b319d3",
   "metadata": {},
   "outputs": [],
   "source": [
    "# Default parameters\n",
    "N = 100  # number of total points\n",
    "D = 10  # half-domain size\n",
    "tau = 0.1  # inlier distance threshold"
   ]
  },
  {
   "cell_type": "markdown",
   "id": "cfd7925e",
   "metadata": {},
   "source": [
    "### 1.1. Data Generation and Model Fitting"
   ]
  },
  {
   "cell_type": "code",
   "execution_count": null,
   "id": "7766ff19",
   "metadata": {},
   "outputs": [],
   "source": [
    "class Polynomial:\n",
    "    def __init__(self, coefficients):\n",
    "        self._coefficients = coefficients\n",
    "\n",
    "    def __repr__(self):\n",
    "        return f\"Polynomial({self._coefficients.tolist()})\"\n",
    "        \n",
    "    @property\n",
    "    def degree(self):\n",
    "        return len(self._coefficients) - 1\n",
    "\n",
    "    def evaluate(self, x):\n",
    "        \"\"\"\n",
    "        x - (N,1) array with the `x` coordinates\n",
    "\n",
    "        Returns - (N,1) array with their `y` coordinates \n",
    "        \"\"\"\n",
    "\n",
    "        y = np.ones_like(x)\n",
    "\n",
    "        # TODO: evaluate the polynomial at points x\n",
    "        # Use numpy vectorization!\n",
    "        # START\n",
    "\n",
    "        # END\n",
    "        \n",
    "        return y\n",
    "    \n",
    "    def is_inlier(self, points: np.ndarray, threshold: float = tau):\n",
    "        \"\"\"\n",
    "        points - Nx2 array with the data points\n",
    "\n",
    "        Returns - bool vector of size N, where i-th element indicates if i-th point of `points` is an inlier\n",
    "        \"\"\"\n",
    "        is_inlier = np.ones((points.shape[0],), dtype=bool)\n",
    "\n",
    "        # TODO : Fill vector `is_inlier`, for i-th element to indicate if i-th point of `points` is an inlier\n",
    "        # Use `self.evaluate`\n",
    "        # Use numpy vectorization!\n",
    "        # START\n",
    "\n",
    "        # END\n",
    "        \n",
    "        return is_inlier\n",
    "        \n",
    "    def generate_points(self, r: float, n_points: int = N) -> Tuple[np.ndarray, np.ndarray]:\n",
    "        \"\"\"\n",
    "        r - outlier ratio\n",
    "        n_points - number of points to generate\n",
    "\n",
    "        Returns - tuple of inliers and outliers, each defined as an Nx2 array of the respective points\n",
    "        \"\"\"\n",
    "        n_outliers = int(n_points * r)\n",
    "        n_inliers = n_points - n_outliers\n",
    "\n",
    "        inliers = np.random.uniform(-D, D, (n_inliers, 2))\n",
    "        outliers = np.random.uniform(-D, D, (n_outliers, 2))\n",
    "\n",
    "        # TODO : Implement Task 1.1. Make use of `self.evaluate` and `self.is_inlier` for that\n",
    "        # START\n",
    "\n",
    "        # END \n",
    "\n",
    "        return inliers, outliers\n",
    "    \n",
    "    @staticmethod\n",
    "    def fit(points: np.ndarray) -> \"Polynomial\":\n",
    "        \"\"\"\n",
    "        points - Nx2 array\n",
    "\n",
    "        Returns - (N-1)-th degree polynomial going through all the `points`\n",
    "        \"\"\"\n",
    "        if points.shape[1] != 2:\n",
    "            raise ValueError(\"Bad point dimmensions\")\n",
    "\n",
    "        deg = points.shape[0] - 1\n",
    "\n",
    "        coefficients = np.zeros(deg + 1)\n",
    "        \n",
    "        # TODO : Compute the (N-1)th degree polynomial coefficients that goes through\n",
    "        #        all the `points` and fill `coefficients`\n",
    "        # You do not need to handle singular cases - you can just return zeros\n",
    "        # START \n",
    "\n",
    "        # END \n",
    "\n",
    "        return Polynomial(coefficients)"
   ]
  },
  {
   "cell_type": "markdown",
   "id": "54a7fa50",
   "metadata": {},
   "source": [
    "#### Tests and Visualization\n",
    "\n",
    "There is no need to modify these cells (but read the comments)."
   ]
  },
  {
   "cell_type": "code",
   "execution_count": null,
   "id": "6823823f",
   "metadata": {},
   "outputs": [],
   "source": [
    "def plot_models(ax, inliers, outliers, synth_model: Polynomial, estimated_model: Optional[Polynomial] = None, title = None):\n",
    "    ax.scatter(inliers[:, 0], inliers[:, 1], label=\"Inliers\", c='none', edgecolors='blue')\n",
    "    if outliers is not None:\n",
    "        ax.scatter(outliers[:, 0], outliers[:, 1], label=\"Outliers\", c='none', edgecolors='red')\n",
    "    \n",
    "    x = np.linspace(-10, 10, 100)[:, None]\n",
    "    if estimated_model is not None:\n",
    "        y = estimated_model.evaluate(x)\n",
    "        ax.plot(x, y, color='black', label=\"estimated model\")\n",
    "        \n",
    "    if title is not None:\n",
    "        ax.set_title(title)\n",
    "        \n",
    "    y = synth_model.evaluate(x)\n",
    "    ax.plot(x, y, color='lime', label='synthetic model')\n",
    "    \n",
    "    ax.set_ylim(bottom=-D, top=D)\n",
    "    ax.set_xlim(left=-D, right=D)\n",
    "    ax.set_aspect('equal')\n",
    "    ax.legend(bbox_to_anchor=(0.5, -0.5), loc=\"lower center\")\n",
    "\n",
    "# Plotting the ground truth inliers/outliers \n",
    "poly_a = Polynomial(np.array([-2, -0.25, 1, 0.25]))\n",
    "inliers, outliers = poly_a.generate_points(0.5)\n",
    "fig, ax = plt.subplots()\n",
    "plot_models(ax, inliers, outliers, poly_a)\n",
    "plt.show()\n",
    "plt.close(fig)"
   ]
  },
  {
   "cell_type": "code",
   "execution_count": null,
   "id": "abd2e406",
   "metadata": {},
   "outputs": [],
   "source": [
    "%%time\n",
    "# A simple non-complete test case for the data generation part\n",
    "# It should not take more than a few seconds to run it.\n",
    "\n",
    "test_points = np.array([[-5.01341822, -7.11485119],\n",
    "                        [ 1.86544097,  2.59891622],\n",
    "                        [-0.37093626, -1.7499924 ],\n",
    "                        [-7.8621905 , -0.45595404]])\n",
    "\n",
    "inliers, outliers = poly_a.generate_points(0.5, 1000000)\n",
    "assert poly_a.is_inlier(inliers).all(), \"Bad inliers\"\n",
    "assert (~poly_a.is_inlier(outliers)).all(), \"Bad outliers\"\n",
    "assert np.abs(inliers).max() <= D, \"Inliers outside of the domain\"\n",
    "assert np.abs(outliers).max() <= D, \"Outliers outside of the domain\"\n",
    "\n",
    "assert (poly_a.is_inlier(test_points) == np.array([*([True] * 3), False])).all(), \"Failed test case\""
   ]
  },
  {
   "cell_type": "code",
   "execution_count": null,
   "id": "dd5d1e33",
   "metadata": {},
   "outputs": [],
   "source": [
    "# Visualizing `fit` implementation. No need to edit this\n",
    "def plot_fitted_poly(points, poly):\n",
    "    fig, ax = plt.subplots()\n",
    "    plot_models(ax, points, points[:0], poly)\n",
    "    ax.get_legend().remove()\n",
    "    plt.show()\n",
    "    plt.close(fig)\n",
    "    \n",
    "poly = Polynomial.fit(test_points)\n",
    "\n",
    "plot_fitted_poly(test_points, poly)"
   ]
  },
  {
   "cell_type": "markdown",
   "id": "7ce78f65",
   "metadata": {},
   "source": [
    "### 1.2. RANSAC"
   ]
  },
  {
   "cell_type": "code",
   "execution_count": null,
   "id": "d06ed8a9",
   "metadata": {},
   "outputs": [],
   "source": [
    "def get_ransac_iterations(r: float, sample_size: int, p: float) -> int:\n",
    "    \"\"\"\n",
    "    r - outlier ratio\n",
    "    sample_size - minimum data\n",
    "    p - success rate\n",
    "    \n",
    "    Returns - number of RANSAC iterations to achieve `p` success rate \n",
    "    \"\"\"\n",
    "    n = 1\n",
    "    \n",
    "    # TODO : Compute the minimum number of RANSAC iterations necessary to achieve `p` success rate\n",
    "    # START \n",
    "\n",
    "    # END \n",
    "    \n",
    "    return n"
   ]
  },
  {
   "cell_type": "code",
   "execution_count": null,
   "id": "db8f3850",
   "metadata": {},
   "outputs": [],
   "source": [
    "def run_ransac(points: np.ndarray, n_iter: int, sample_size: int) -> Tuple[np.ndarray, np.ndarray, Polynomial]:\n",
    "    \"\"\"\n",
    "    points - Nx2 array with the data points\n",
    "    n_iter - number of ransac iterations\n",
    "    sample_size - number of samples required to fit the model\n",
    "    \n",
    "    Returns - tuple of inliers and outliers, each defined as Nx2 arrays of the\n",
    "              respective points, and the final Polynomial model\n",
    "    \"\"\"\n",
    "\n",
    "    n_points = points.shape[0]\n",
    "    inliers = points[:0]\n",
    "    outliers = points\n",
    "    poly = None\n",
    "    \n",
    "    # TODO : Implement 1.2 - RANSAC for model fitting\n",
    "    # START\n",
    "\n",
    "    # END \n",
    "    \n",
    "    return inliers, outliers, poly"
   ]
  },
  {
   "cell_type": "code",
   "execution_count": null,
   "id": "334d4084",
   "metadata": {},
   "outputs": [],
   "source": [
    "# Running RANSAC and populating historgrams\n",
    "# It may take some time to run, you can adjust N_RUNS to help with debugging\n",
    "N_RUNS = 1000\n",
    "OUTLIER_RATIOS = [0.05, 0.2, 0.3, 0.7]\n",
    "\n",
    "def plot_ransac_results(synth_poly: Polynomial):\n",
    "    fig, axes = plt.subplots(2, len(OUTLIER_RATIOS), figsize=(17, 7))\n",
    "\n",
    "    for r, (ax_hist, ax_vis) in zip(OUTLIER_RATIOS, zip(*axes)): \n",
    "        inlier_histogram = np.zeros(N_RUNS)\n",
    "\n",
    "        ransac_inliers = None\n",
    "        ransac_outliers = None\n",
    "        model = None\n",
    "\n",
    "        # TODO : Fill `inlier_histogram` array and assign `ransac_inliers`,\n",
    "        #        `ransac_outliers`, `model`\n",
    "        # START\n",
    "\n",
    "        # END\n",
    "\n",
    "        ax_hist.hist(inlier_histogram, range=(0, N), bins=N+1)\n",
    "\n",
    "        plot_models(ax_vis, ransac_inliers, ransac_outliers, synth_poly, model)\n",
    "\n",
    "    plt.show()\n",
    "    plt.close(fig)\n",
    "\n",
    "\n",
    "plot_ransac_results(poly_a)"
   ]
  },
  {
   "cell_type": "code",
   "execution_count": null,
   "id": "7ba6afd5",
   "metadata": {},
   "outputs": [],
   "source": [
    "poly_b = Polynomial(np.array([1, 1]))\n",
    "plot_ransac_results(poly_b)"
   ]
  },
  {
   "cell_type": "markdown",
   "id": "e4ff00ec",
   "metadata": {},
   "source": [
    "### 1.3. Exhaustive search"
   ]
  },
  {
   "cell_type": "code",
   "execution_count": null,
   "id": "a83d2cfa",
   "metadata": {},
   "outputs": [],
   "source": [
    "def exhaustive_search(points: np.ndarray, sample_size) -> Tuple[np.ndarray, np.ndarray, Polynomial]:\n",
    "    \"\"\"\n",
    "    points - Nx2 array with the data points\n",
    "    sample_size - number of samples required to fit the model\n",
    "    \n",
    "    Returns - tuple of inliers and outliers, each defined as Nx2 arrays of the\n",
    "              respective points, and the best model\n",
    "    \"\"\"\n",
    "\n",
    "    n_points = points.shape[0]\n",
    "\n",
    "    inliers = points[:0]\n",
    "    outliers = points\n",
    "    model = None\n",
    "\n",
    "    # TODO : Implement exhaustive search by trying all the combinations of minimal data points\n",
    "    # START\n",
    "\n",
    "    # END \n",
    "    \n",
    "    return inliers, outliers, model"
   ]
  },
  {
   "cell_type": "code",
   "execution_count": null,
   "id": "2d3e4dbe",
   "metadata": {},
   "outputs": [],
   "source": [
    "# Running exhaustive search. No need to edit this. Running on a reduced set of points\n",
    "inliers, outliers = poly_a.generate_points(0.2, 30)\n",
    "points = np.concatenate((inliers, outliers), 0)\n",
    "\n",
    "sample_size = poly_a.degree + 1\n",
    "n_iter = get_ransac_iterations(0.2, sample_size, 0.99)\n",
    "ransac_inliers, ransac_outliers, ransac_model = run_ransac(points, n_iter, sample_size)\n",
    "\n",
    "exhaustive_inliers, exhaustive_outliers, exhaustive_model = exhaustive_search(points, sample_size)\n",
    "\n",
    "print(f\"Real inliers: {len(inliers)}\")\n",
    "print(f\"RANSAC inliers: {len(ransac_inliers)}\")\n",
    "print(f\"Exhaustive search inliers: {len(exhaustive_inliers)}\")\n",
    "\n",
    "fig, axes = plt.subplots(1, 2, figsize=(17, 7))\n",
    "\n",
    "plot_models(axes[0], ransac_inliers, ransac_outliers, poly_a, ransac_model)\n",
    "plot_models(axes[1], exhaustive_inliers, exhaustive_outliers, poly_a, exhaustive_model)\n",
    "\n",
    "plt.show()\n",
    "plt.close(fig)"
   ]
  },
  {
   "cell_type": "markdown",
   "id": "228ad5ff",
   "metadata": {},
   "source": [
    "### Questions and Discussion "
   ]
  },
  {
   "cell_type": "markdown",
   "id": "bd7a4065",
   "metadata": {},
   "source": [
    "<b style=\"color:red\"> Question 1.1: </b> How many combinations (exhaustive search) exist for $N=100$ points? "
   ]
  },
  {
   "cell_type": "markdown",
   "id": "34fe0cc4",
   "metadata": {},
   "source": [
    "_TODO_: Your answer here"
   ]
  },
  {
   "cell_type": "markdown",
   "id": "a618b799",
   "metadata": {},
   "source": [
    "<b style=\"color:red\"> Question 1.2: </b> What about the number of RANSAC iterations with $r=5\\%$, $20\\%$, $30\\%$ and $70\\%$? "
   ]
  },
  {
   "cell_type": "markdown",
   "id": "cd2b1770",
   "metadata": {},
   "source": [
    "_TODO_: Your answer here"
   ]
  },
  {
   "cell_type": "markdown",
   "id": "3a6b9bb2",
   "metadata": {},
   "source": [
    "<b style=\"color:red\"> Question 1.3: </b> What about when $N=100,000$ points?"
   ]
  },
  {
   "cell_type": "markdown",
   "id": "068edef4",
   "metadata": {},
   "source": [
    "_TODO_: Your answer here"
   ]
  },
  {
   "cell_type": "markdown",
   "id": "1190df85",
   "metadata": {},
   "source": [
    "<b style=\"color:red\"> Question 1.4: </b> Does exhaustive search on all the combinations of data points guarantee the optimal solution (in terms of number of inliers)? Why?"
   ]
  },
  {
   "cell_type": "markdown",
   "id": "9a6b5506",
   "metadata": {},
   "source": [
    "_TODO_: Your answer here"
   ]
  },
  {
   "cell_type": "markdown",
   "id": "65349370",
   "metadata": {},
   "source": [
    "<b style=\"color:red\"> Question 1.5: </b> Does RANSAC always find close to the optimal number of inliers? Why? If not, would increasing the number of RANSAC iterations always improve that?"
   ]
  },
  {
   "cell_type": "markdown",
   "id": "17bf1a52",
   "metadata": {},
   "source": [
    "_TODO_: Your answer here"
   ]
  },
  {
   "cell_type": "markdown",
   "id": "7c6641e4",
   "metadata": {},
   "source": [
    "<b style=\"color:red\"> Question 1.6: </b> Discuss and compare the results obtained by RANSAC and exhaustive search in terms of\n",
    "number of inliers, speed, number of synthesized inliers, etc."
   ]
  },
  {
   "cell_type": "markdown",
   "id": "627650ac",
   "metadata": {},
   "source": [
    "_TODO_: Your answer here"
   ]
  },
  {
   "cell_type": "markdown",
   "id": "3c74ffe8",
   "metadata": {},
   "source": [
    "<b style=\"color:red\"> Question 1.7: </b> One of the challenges in using RANSAC for fitting polynomials is choosing appropriate values for the number of iterations and the inlier threshold. How would you go about selecting these values, and what factors should you consider when making this choice? Describe any tradeoffs that may exist between these two parameters, and provide an example scenario where a higher number of iterations or a higher inlier threshold might be preferable."
   ]
  },
  {
   "cell_type": "markdown",
   "id": "f332d90f",
   "metadata": {},
   "source": [
    "_TODO_: Your answer here"
   ]
  },
  {
   "cell_type": "markdown",
   "id": "227bdae1",
   "metadata": {},
   "source": [
    "## Part 2: IRLS and norms for line fitting"
   ]
  },
  {
   "cell_type": "code",
   "execution_count": null,
   "id": "700265e6",
   "metadata": {},
   "outputs": [],
   "source": [
    "poly_b = Polynomial(np.array([1, 1]))"
   ]
  },
  {
   "cell_type": "code",
   "execution_count": null,
   "id": "617a11e7",
   "metadata": {},
   "outputs": [],
   "source": [
    "# Plotting the generated line that will be used for model fitting, no need to change this code    \n",
    "inliers, outliers = poly_b.generate_points(0.1)\n",
    "points = np.concatenate((inliers, outliers), 0)\n",
    "\n",
    "fig, ax = plt.subplots()\n",
    "plot_models(ax, inliers, outliers, poly_b)\n",
    "plt.show()\n",
    "plt.close(fig)"
   ]
  },
  {
   "cell_type": "code",
   "execution_count": null,
   "id": "57d21049",
   "metadata": {},
   "outputs": [],
   "source": [
    "## Implement different line fitting algorithms\n",
    "\n",
    "def fit_line_irls_l1(points: np.ndarray) -> Polynomial:\n",
    "    \"\"\"\n",
    "    points - Nx2 array with the data points\n",
    "    \n",
    "    Returns - fitted Line\n",
    "    \"\"\"\n",
    "    \n",
    "    line = np.array([0, 0.5])\n",
    "    \n",
    "    # TODO : Implement line fitting with L-1 norm by using IRLS\n",
    "    # START\n",
    "\n",
    "    # END\n",
    "\n",
    "    return Polynomial(line)\n",
    "\n",
    "\n",
    "def fit_line_lp_l1(points: np.ndarray) -> Polynomial:\n",
    "    \"\"\"\n",
    "    points - Nx2 array with the data points\n",
    "    \n",
    "    Returns - fitted Line\n",
    "    \"\"\"   \n",
    "    line = np.array([0, 0.5])\n",
    "\n",
    "    # TODO : Implement line fitting with L-1 norm by using linear programming\n",
    "    # START\n",
    "\n",
    "    # END\n",
    "    \n",
    "    return Polynomial(line)\n",
    "\n",
    "\n",
    "def fit_line_lp_l_inf(points: np.ndarray) -> Polynomial:\n",
    "    \"\"\"\n",
    "    points - Nx2 array with the data points\n",
    "    \n",
    "    Returns - fitted Line\n",
    "    \"\"\"\n",
    "    line = np.array([0, 0.5])\n",
    "    \n",
    "    # TODO : Implement line fitting with L-infinity norm by using linear programming\n",
    "    # START\n",
    "\n",
    "    # END\n",
    "    \n",
    "    return Polynomial(line)"
   ]
  },
  {
   "cell_type": "code",
   "execution_count": null,
   "id": "4e21c896",
   "metadata": {},
   "outputs": [],
   "source": [
    "# Plotting the results. No need to change this code\n",
    "for r in [0.0, 0.01, 0.1, 0.5, 0.8]:\n",
    "    inliers, outliers = poly_b.generate_points(r)\n",
    "    points = np.concatenate((inliers, outliers), 0)\n",
    "\n",
    "    irls_l1_line = fit_line_irls_l1(points)\n",
    "    lp_l1_line = fit_line_lp_l1(points)\n",
    "    lp_l_inf_line = fit_line_lp_l_inf(points)\n",
    "\n",
    "    fig, axes = plt.subplots(1, 3, figsize=(17, 5))\n",
    "    \n",
    "    fig.suptitle(f'Line fitting with {r*100:.0f}% outliers', fontsize=16)\n",
    "    \n",
    "    plot_models(axes[0], inliers, outliers, poly_b, irls_l1_line, title=\"L1 IRLS\")\n",
    "    plot_models(axes[1], inliers, outliers, poly_b, lp_l1_line, title=\"L1 IRLS\")\n",
    "    plot_models(axes[2], inliers, outliers, poly_b, lp_l_inf_line, title=\"L-inf LP\")\n",
    "    \n",
    "    plt.show()\n",
    "    plt.close(fig)\n",
    "    \n",
    "    print(f\"IRLS L1: {irls_l1_line}\")\n",
    "    print(f\"LP L1: {lp_l1_line}\")\n",
    "    print(f\"LP L-inf: {lp_l_inf_line}\")\n"
   ]
  },
  {
   "cell_type": "code",
   "execution_count": null,
   "id": "0931084c",
   "metadata": {},
   "outputs": [],
   "source": [
    "# Comparison with RANSAC\n",
    "r = 0.8\n",
    "inliers, outliers = poly_b.generate_points(r)\n",
    "points = np.concatenate((inliers, outliers), 0)\n",
    "\n",
    "sample_size = poly_b.degree + 1\n",
    "n_iter = get_ransac_iterations(r, sample_size, 0.99)\n",
    "_, _, ransac_line = run_ransac(points, n_iter, sample_size)\n",
    "\n",
    "lp_l1_line = fit_line_lp_l1(points)\n",
    "lp_l_inf_line = fit_line_lp_l_inf(points)\n",
    "\n",
    "fig, axes = plt.subplots(1, 3, figsize=(17, 5))\n",
    "    \n",
    "fig.suptitle(f'Line fitting with {r*100:.0f}% outliers', fontsize=16)\n",
    "    \n",
    "plot_models(axes[0], inliers, outliers, poly_b, ransac_line, title=\"RANSAC\")\n",
    "plot_models(axes[1], inliers, outliers, poly_b, lp_l1_line, title=\"L1\")\n",
    "plot_models(axes[2], inliers, outliers, poly_b, lp_l_inf_line, title=\"L-inf\")\n",
    "    \n",
    "plt.show()\n",
    "plt.close(fig)"
   ]
  },
  {
   "cell_type": "markdown",
   "id": "1aaaf209",
   "metadata": {},
   "source": [
    "### Discussion "
   ]
  },
  {
   "cell_type": "markdown",
   "id": "4589cca9",
   "metadata": {},
   "source": [
    "<b style=\"color:red\"> Question 2.1:</b> Discuss the results obtained by IRLS/LP solutions."
   ]
  },
  {
   "cell_type": "markdown",
   "id": "6b5af30e",
   "metadata": {},
   "source": [
    "_TODO_: Your answer here"
   ]
  },
  {
   "cell_type": "markdown",
   "id": "0c6edfce",
   "metadata": {},
   "source": [
    "<b style=\"color:red\"> Question 2.2:</b> Compare and contrast them with RANSAC. What are the key differences between these two approaches? Under what circumstances might one be more suitable than the other?"
   ]
  },
  {
   "cell_type": "markdown",
   "id": "ac0b2b2d",
   "metadata": {},
   "source": [
    "_TODO_: Your answer here"
   ]
  },
  {
   "cell_type": "code",
   "execution_count": null,
   "id": "b1ee8b2a",
   "metadata": {},
   "outputs": [],
   "source": []
  }
 ],
 "metadata": {
  "kernelspec": {
   "display_name": "Python 3 (ipykernel)",
   "language": "python",
   "name": "python3"
  },
  "language_info": {
   "codemirror_mode": {
    "name": "ipython",
    "version": 3
   },
   "file_extension": ".py",
   "mimetype": "text/x-python",
   "name": "python",
   "nbconvert_exporter": "python",
   "pygments_lexer": "ipython3",
   "version": "3.8.13"
  }
 },
 "nbformat": 4,
 "nbformat_minor": 5
}
